{
 "cells": [
  {
   "cell_type": "code",
   "execution_count": 23,
   "metadata": {
    "collapsed": true
   },
   "outputs": [],
   "source": [
    "import numpy as np # linear algebra\n",
    "import pandas as pd # data processing, CSV file I/O (e.g. pd.read_csv)\n",
    "\n",
    "import os\n",
    "import nltk\n",
    "from nltk.corpus import wordnet as wn\n",
    "from nltk.tokenize import RegexpTokenizer\n",
    "from nltk.corpus import stopwords\n",
    "from nltk.tokenize import word_tokenize\n",
    "\n",
    "from nltk.corpus import stopwords\n",
    "from nltk.stem import WordNetLemmatizer"
   ]
  },
  {
   "cell_type": "code",
   "execution_count": 24,
   "outputs": [
    {
     "name": "stdout",
     "output_type": "stream",
     "text": [
      "bank is a financial institution.my friend works in a bank.he opened me a bank account.he even gave me a lift in his a car.\n"
     ]
    }
   ],
   "source": [
    "sentence = 'Bank is a financial institution.My friend works in a bank.He opened me a bank account.He even gave me a lift in his a car.'\n",
    "sentences = nltk.sent_tokenize(sentence.lower())\n",
    "for s in sentences:\n",
    "    print(s)"
   ],
   "metadata": {
    "collapsed": false
   }
  },
  {
   "cell_type": "code",
   "execution_count": 25,
   "outputs": [],
   "source": [
    "def removePunctuation(sentences):\n",
    "    tt=\"\"\n",
    "    sentences2=[]\n",
    "    for x in sentences:\n",
    "        tokenizer = RegexpTokenizer('\\w+')\n",
    "        text2=tokenizer.tokenize(x)\n",
    "        cnt=1\n",
    "        for x2 in text2:\n",
    "            if cnt==1:\n",
    "                tt+=x2\n",
    "                cnt=0\n",
    "            else:\n",
    "                tt+=\" \"+x2\n",
    "        sentences2.append(tt)\n",
    "        tt=\"\"\n",
    "    return sentences2"
   ],
   "metadata": {
    "collapsed": false
   }
  },
  {
   "cell_type": "code",
   "execution_count": 26,
   "outputs": [],
   "source": [
    "def stopWords(sentences2):\n",
    "    stop_words = set(stopwords.words(\"english\"))\n",
    "    context_tab=[]\n",
    "    for sentence in sentences2:\n",
    "        words = nltk.word_tokenize(sentence)\n",
    "        without_stop_words = [word for word in words if not word in stop_words]\n",
    "        context_tab.append(without_stop_words)\n",
    "    return context_tab"
   ],
   "metadata": {
    "collapsed": false
   }
  },
  {
   "cell_type": "code",
   "execution_count": 27,
   "outputs": [],
   "source": [
    "def lemmatization(context_tab):\n",
    "    lemma=[]\n",
    "    wl=WordNetLemmatizer()\n",
    "    for x in context_tab:\n",
    "        m2=[]\n",
    "        for x2 in x:\n",
    "            x3=wl.lemmatize(x2,wn.VERB)\n",
    "            x3=wl.lemmatize(x3,wn.NOUN)\n",
    "            x3=wl.lemmatize(x3,wn.ADJ)\n",
    "            x3=wl.lemmatize(x3,wn.ADV)\n",
    "            m2.append(x3)\n",
    "        lemma.append(m2)\n",
    "    return lemma"
   ],
   "metadata": {
    "collapsed": false
   }
  },
  {
   "cell_type": "code",
   "execution_count": 28,
   "outputs": [],
   "source": [
    "def tagPos(lemma):\n",
    "    pos=[]\n",
    "    for n in lemma:\n",
    "        pos.append(nltk.pos_tag(n))\n",
    "    return pos"
   ],
   "metadata": {
    "collapsed": false
   }
  },
  {
   "cell_type": "code",
   "execution_count": 29,
   "outputs": [],
   "source": [
    "def wordOfInterest(pos):\n",
    "    wn_pos=['NN','VB','JJ','JJR','JJS','NNP','VBG','RB','VBD','VBP']\n",
    "\n",
    "    woi1=[]\n",
    "\n",
    "    for x in pos:\n",
    "        arr=[]\n",
    "        for y in x:\n",
    "            if y[1] in wn_pos:\n",
    "                arr.append(y)\n",
    "        woi1.append(arr)\n",
    "    woi=[]\n",
    "\n",
    "\n",
    "    for i in woi1:\n",
    "        arr2=[]\n",
    "        for j in i:\n",
    "\n",
    "            if j[1]=='VBD' or j[1]=='VB' or j[1]=='VBP':\n",
    "                tup=(j[0],'v')\n",
    "                arr2.append(tup)\n",
    "            elif j[1]=='VBG':\n",
    "                tup=(j[0],'n')\n",
    "                arr2.append(tup)\n",
    "            elif j[1]=='NN' or j[1]=='NNP':\n",
    "                tup=(j[0],'n')\n",
    "                arr2.append(tup)\n",
    "            elif j[1]== 'JJ' or j[1]=='JJR' or j[1]=='JJS':\n",
    "                tup=(j[0],'a')\n",
    "                arr2.append(tup)\n",
    "            elif j[1]=='RB':\n",
    "                tup=(j[0],'r')\n",
    "                arr2.append(tup)\n",
    "        woi.append(arr2)\n",
    "\n",
    "    return woi"
   ],
   "metadata": {
    "collapsed": false
   }
  },
  {
   "cell_type": "code",
   "execution_count": 30,
   "outputs": [],
   "source": [
    "sentence_without_punctation = removePunctuation(sentences)\n",
    "sentence_without_stopwords = stopWords(sentence_without_punctation)\n",
    "lemmas = lemmatization(sentence_without_stopwords)\n",
    "pos = tagPos(lemmas)\n",
    "change_to_pos = wordOfInterest(pos)"
   ],
   "metadata": {
    "collapsed": false
   }
  },
  {
   "cell_type": "code",
   "execution_count": 31,
   "outputs": [
    {
     "name": "stdout",
     "output_type": "stream",
     "text": [
      "financial a\n"
     ]
    }
   ],
   "source": [
    "w=change_to_pos[0][1][0]\n",
    "tag=change_to_pos[0][1][1]\n",
    "print(w, tag)"
   ],
   "metadata": {
    "collapsed": false
   }
  },
  {
   "cell_type": "code",
   "execution_count": 32,
   "outputs": [],
   "source": [
    "def cosineSimilarity(X,Y):\n",
    "    # tokenization\n",
    "    X_list = word_tokenize(X)\n",
    "    Y_list = word_tokenize(Y)\n",
    "\n",
    "    # sw contains the list of stopwords\n",
    "    sw = stopwords.words('english')\n",
    "    l1 =[];l2 =[]\n",
    "\n",
    "    # remove stop words from string\n",
    "    X_set = {w for w in X_list if not w in sw}\n",
    "    Y_set = {w for w in Y_list if not w in sw}\n",
    "\n",
    "    # form a set containing keywords of both strings\n",
    "    rvector = X_set.union(Y_set)\n",
    "    for w in rvector:\n",
    "        if w in X_set: l1.append(1) # create a vector\n",
    "        else: l1.append(0)\n",
    "        if w in Y_set: l2.append(1)\n",
    "        else: l2.append(0)\n",
    "    c = 0\n",
    "\n",
    "    # cosine formula\n",
    "    for i in range(len(rvector)):\n",
    "            c+= l1[i]*l2[i]\n",
    "    cosine = c / float((sum(l1)*sum(l2))**0.5)\n",
    "    return cosine"
   ],
   "metadata": {
    "collapsed": false
   }
  },
  {
   "cell_type": "code",
   "execution_count": 33,
   "outputs": [],
   "source": [
    "def WSD(woi):\n",
    "    outcome = []\n",
    "    lineNo=0\n",
    "    for line in woi:\n",
    "        wordSenseAr=[]\n",
    "        for word in line:\n",
    "            senseAr=[]\n",
    "            temp=[]\n",
    "            senseAr = wn.synsets(word[0], word[1])\n",
    "            for i in senseAr:\n",
    "                score=0\n",
    "                count=0\n",
    "                for j in i.examples():\n",
    "                    score=score+cosineSimilarity(j,sentences[lineNo])\n",
    "                    count=count+1\n",
    "                if count ==0:\n",
    "                    score=0\n",
    "                else:\n",
    "                    score = score/count\n",
    "                temp.append((i,score))\n",
    "            temp = sorted(temp, key=lambda tup: tup[1],reverse=True)\n",
    "            wordSenseAr.append(temp[0:int(len(temp)/2+1)])\n",
    "        outcome.append(wordSenseAr)\n",
    "    print(outcome)\n",
    "    print('\\n')"
   ],
   "metadata": {
    "collapsed": false
   }
  }
 ],
 "metadata": {
  "kernelspec": {
   "display_name": "Python 3",
   "language": "python",
   "name": "python3"
  },
  "language_info": {
   "codemirror_mode": {
    "name": "ipython",
    "version": 2
   },
   "file_extension": ".py",
   "mimetype": "text/x-python",
   "name": "python",
   "nbconvert_exporter": "python",
   "pygments_lexer": "ipython2",
   "version": "2.7.6"
  }
 },
 "nbformat": 4,
 "nbformat_minor": 0
}
