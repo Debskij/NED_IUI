{
 "cells": [
  {
   "cell_type": "code",
   "execution_count": 4,
   "metadata": {
    "collapsed": true
   },
   "outputs": [],
   "source": [
    "import pandas as pd\n",
    "import numpy as np\n",
    "import nltk, keras, string, re, html, math\n",
    "\n",
    "from nltk.tokenize import word_tokenize, sent_tokenize\n",
    "from nltk.corpus import stopwords, wordnet\n",
    "from nltk.stem import WordNetLemmatizer\n",
    "from sklearn.preprocessing import LabelEncoder\n",
    "from sklearn.feature_extraction.text import CountVectorizer\n",
    "from collections import Counter, defaultdict\n",
    "from sklearn.model_selection import train_test_split\n",
    "from keras.preprocessing.text import Tokenizer\n",
    "from keras.utils import pad_sequences\n",
    "from sklearn.metrics import accuracy_score, classification_report"
   ]
  },
  {
   "cell_type": "code",
   "execution_count": 5,
   "outputs": [
    {
     "name": "stdout",
     "output_type": "stream",
     "text": [
      "Data shape -  (50000, 2) \n",
      "\n",
      "The number of null values -  review 0\n",
      "The number of null values -  sentiment 0\n"
     ]
    },
    {
     "data": {
      "text/plain": "                                              review sentiment\n0  one of the other reviewers has mentioned that ...  positive\n1  a wonderful little production. <br /><br />the...  positive\n2  i thought this was a wonderful way to spend ti...  positive\n3  basically there's a family where a little boy ...  negative\n4  petter mattei's \"love in the time of money\" is...  positive",
      "text/html": "<div>\n<style scoped>\n    .dataframe tbody tr th:only-of-type {\n        vertical-align: middle;\n    }\n\n    .dataframe tbody tr th {\n        vertical-align: top;\n    }\n\n    .dataframe thead th {\n        text-align: right;\n    }\n</style>\n<table border=\"1\" class=\"dataframe\">\n  <thead>\n    <tr style=\"text-align: right;\">\n      <th></th>\n      <th>review</th>\n      <th>sentiment</th>\n    </tr>\n  </thead>\n  <tbody>\n    <tr>\n      <th>0</th>\n      <td>one of the other reviewers has mentioned that ...</td>\n      <td>positive</td>\n    </tr>\n    <tr>\n      <th>1</th>\n      <td>a wonderful little production. &lt;br /&gt;&lt;br /&gt;the...</td>\n      <td>positive</td>\n    </tr>\n    <tr>\n      <th>2</th>\n      <td>i thought this was a wonderful way to spend ti...</td>\n      <td>positive</td>\n    </tr>\n    <tr>\n      <th>3</th>\n      <td>basically there's a family where a little boy ...</td>\n      <td>negative</td>\n    </tr>\n    <tr>\n      <th>4</th>\n      <td>petter mattei's \"love in the time of money\" is...</td>\n      <td>positive</td>\n    </tr>\n  </tbody>\n</table>\n</div>"
     },
     "execution_count": 5,
     "metadata": {},
     "output_type": "execute_result"
    }
   ],
   "source": [
    "#Loads the IMDB dataset. We load it using pandas as dataframe\n",
    "data = pd.read_csv('/home/jadebski/PycharmProjects/IUI_ED/IMDB Dataset.csv')\n",
    "print(\"Data shape - \", data.shape, \"\\n\")                                  #prints the number of rows and columns\n",
    "\n",
    "for col in data.columns:\n",
    "    print(\"The number of null values - \", col, data[col].isnull().sum())\n",
    "#prints the number of null values in each column\n",
    "\n",
    "data[\"review\"]= data[\"review\"].str.lower()\n",
    "data[\"sentiment\"]= data[\"sentiment\"].str.lower()             #converts every value in the column to lowercase\n",
    "data.head()"
   ],
   "metadata": {
    "collapsed": false
   }
  },
  {
   "cell_type": "code",
   "execution_count": 8,
   "outputs": [
    {
     "data": {
      "text/plain": "                                              review sentiment  \\\n0  one of the other reviewers has mentioned that ...  positive   \n1  a wonderful little production. <br /><br />the...  positive   \n2  i thought this was a wonderful way to spend ti...  positive   \n3  basically there's a family where a little boy ...  negative   \n4  petter mattei's \"love in the time of money\" is...  positive   \n\n                                             cleaned  \\\n0  one reviewer mentioned watching 1 oz episode h...   \n1  wonderful little production filming technique ...   \n2  thought wonderful way spend time hot summer we...   \n3  basically family little boy jake think zombie ...   \n4  petter mattei love time money visually stunnin...   \n\n                                              tokens  \n0  [one, reviewer, mentioned, watching, 1, oz, ep...  \n1  [wonderful, little, production, filming, techn...  \n2  [thought, wonderful, way, spend, time, hot, su...  \n3  [basically, family, little, boy, jake, think, ...  \n4  [petter, mattei, love, time, money, visually, ...  ",
      "text/html": "<div>\n<style scoped>\n    .dataframe tbody tr th:only-of-type {\n        vertical-align: middle;\n    }\n\n    .dataframe tbody tr th {\n        vertical-align: top;\n    }\n\n    .dataframe thead th {\n        text-align: right;\n    }\n</style>\n<table border=\"1\" class=\"dataframe\">\n  <thead>\n    <tr style=\"text-align: right;\">\n      <th></th>\n      <th>review</th>\n      <th>sentiment</th>\n      <th>cleaned</th>\n      <th>tokens</th>\n    </tr>\n  </thead>\n  <tbody>\n    <tr>\n      <th>0</th>\n      <td>one of the other reviewers has mentioned that ...</td>\n      <td>positive</td>\n      <td>one reviewer mentioned watching 1 oz episode h...</td>\n      <td>[one, reviewer, mentioned, watching, 1, oz, ep...</td>\n    </tr>\n    <tr>\n      <th>1</th>\n      <td>a wonderful little production. &lt;br /&gt;&lt;br /&gt;the...</td>\n      <td>positive</td>\n      <td>wonderful little production filming technique ...</td>\n      <td>[wonderful, little, production, filming, techn...</td>\n    </tr>\n    <tr>\n      <th>2</th>\n      <td>i thought this was a wonderful way to spend ti...</td>\n      <td>positive</td>\n      <td>thought wonderful way spend time hot summer we...</td>\n      <td>[thought, wonderful, way, spend, time, hot, su...</td>\n    </tr>\n    <tr>\n      <th>3</th>\n      <td>basically there's a family where a little boy ...</td>\n      <td>negative</td>\n      <td>basically family little boy jake think zombie ...</td>\n      <td>[basically, family, little, boy, jake, think, ...</td>\n    </tr>\n    <tr>\n      <th>4</th>\n      <td>petter mattei's \"love in the time of money\" is...</td>\n      <td>positive</td>\n      <td>petter mattei love time money visually stunnin...</td>\n      <td>[petter, mattei, love, time, money, visually, ...</td>\n    </tr>\n  </tbody>\n</table>\n</div>"
     },
     "execution_count": 7,
     "metadata": {},
     "output_type": "execute_result"
    },
    {
     "data": {
      "text/plain": "                                              review sentiment  \\\n0  one of the other reviewers has mentioned that ...  positive   \n1  a wonderful little production. <br /><br />the...  positive   \n2  i thought this was a wonderful way to spend ti...  positive   \n3  basically there's a family where a little boy ...  negative   \n4  petter mattei's \"love in the time of money\" is...  positive   \n\n                                             cleaned  \\\n0  one reviewer mentioned watching 1 oz episode h...   \n1  wonderful little production filming technique ...   \n2  thought wonderful way spend time hot summer we...   \n3  basically family little boy jake think zombie ...   \n4  petter mattei love time money visually stunnin...   \n\n                                              tokens  \n0  [one, reviewer, mentioned, watching, 1, oz, ep...  \n1  [wonderful, little, production, filming, techn...  \n2  [thought, wonderful, way, spend, time, hot, su...  \n3  [basically, family, little, boy, jake, think, ...  \n4  [petter, mattei, love, time, money, visually, ...  ",
      "text/html": "<div>\n<style scoped>\n    .dataframe tbody tr th:only-of-type {\n        vertical-align: middle;\n    }\n\n    .dataframe tbody tr th {\n        vertical-align: top;\n    }\n\n    .dataframe thead th {\n        text-align: right;\n    }\n</style>\n<table border=\"1\" class=\"dataframe\">\n  <thead>\n    <tr style=\"text-align: right;\">\n      <th></th>\n      <th>review</th>\n      <th>sentiment</th>\n      <th>cleaned</th>\n      <th>tokens</th>\n    </tr>\n  </thead>\n  <tbody>\n    <tr>\n      <th>0</th>\n      <td>one of the other reviewers has mentioned that ...</td>\n      <td>positive</td>\n      <td>one reviewer mentioned watching 1 oz episode h...</td>\n      <td>[one, reviewer, mentioned, watching, 1, oz, ep...</td>\n    </tr>\n    <tr>\n      <th>1</th>\n      <td>a wonderful little production. &lt;br /&gt;&lt;br /&gt;the...</td>\n      <td>positive</td>\n      <td>wonderful little production filming technique ...</td>\n      <td>[wonderful, little, production, filming, techn...</td>\n    </tr>\n    <tr>\n      <th>2</th>\n      <td>i thought this was a wonderful way to spend ti...</td>\n      <td>positive</td>\n      <td>thought wonderful way spend time hot summer we...</td>\n      <td>[thought, wonderful, way, spend, time, hot, su...</td>\n    </tr>\n    <tr>\n      <th>3</th>\n      <td>basically there's a family where a little boy ...</td>\n      <td>negative</td>\n      <td>basically family little boy jake think zombie ...</td>\n      <td>[basically, family, little, boy, jake, think, ...</td>\n    </tr>\n    <tr>\n      <th>4</th>\n      <td>petter mattei's \"love in the time of money\" is...</td>\n      <td>positive</td>\n      <td>petter mattei love time money visually stunnin...</td>\n      <td>[petter, mattei, love, time, money, visually, ...</td>\n    </tr>\n  </tbody>\n</table>\n</div>"
     },
     "execution_count": 8,
     "metadata": {},
     "output_type": "execute_result"
    }
   ],
   "source": [
    "def cleaning(data):\n",
    "    clean = re.sub('<.*?>', ' ', str(data))\n",
    "#removes HTML tags\n",
    "    clean = re.sub('\\'.*?\\s',' ', clean)\n",
    "#removes all hanging letters afer apostrophes (s in it's)\n",
    "    clean = re.sub(r'http\\S+',' ', clean)\n",
    "#removes URLs\n",
    "    clean = re.sub('\\W+',' ', clean)\n",
    "#replacing the non alphanumeric characters\n",
    "    return html.unescape(clean)\n",
    "data['cleaned'] = data['review'].apply(cleaning)\n",
    "\n",
    "\n",
    "def tokenizing(data):\n",
    "    review = data['cleaned']\n",
    "#tokenizing is done\n",
    "    tokens = nltk.word_tokenize(review)\n",
    "    return tokens\n",
    "data['tokens'] = data.apply(tokenizing, axis=1)\n",
    "\n",
    "\n",
    "stop_words = set(stopwords.words('english'))\n",
    "def remove_stops(data):\n",
    "    my_list = data['tokens']\n",
    "    meaningful_words = [w for w in my_list if not w in stop_words]           #stopwords are removed from the tokenized data\n",
    "    return (meaningful_words)\n",
    "data['tokens'] = data.apply(remove_stops, axis=1)\n",
    "\n",
    "\n",
    "lemmatizer = WordNetLemmatizer()\n",
    "def lemmatizing(data):\n",
    "    my_list = data['tokens']\n",
    "    lemmatized_list = [lemmatizer.lemmatize(word) for word in my_list]\n",
    "#lemmatizing is performed. It's more efficient than stemming.\n",
    "    return (lemmatized_list)\n",
    "data['tokens'] = data.apply(lemmatizing, axis=1)\n",
    "\n",
    "def rejoin_words(data):\n",
    "    my_list = data['tokens']\n",
    "    joined_words = ( \" \".join(my_list))\n",
    "#rejoins all stemmed words\n",
    "    return joined_words\n",
    "data['cleaned'] = data.apply(rejoin_words, axis=1)\n",
    "\n",
    "data.head()"
   ],
   "metadata": {
    "collapsed": false
   }
  },
  {
   "cell_type": "code",
   "execution_count": 9,
   "outputs": [
    {
     "name": "stdout",
     "output_type": "stream",
     "text": [
      "The number of sentences is -  542611\n",
      "\n",
      "The number of tokens is -  5961690\n",
      "\n",
      "The average number of tokens per sentence is -  11\n",
      "\n",
      "The number of positive examples are -  25000\n",
      "\n",
      "The number of negative examples are -  25000\n",
      "\n",
      "The proportion of positive to negative sentiments are - 1.0\n"
     ]
    }
   ],
   "source": [
    "# Prints statistics of Data like avg length of sentence , proportion of data w.r.t class labels\n",
    "def sents(data):\n",
    "    clean = re.sub('<.*?>', ' ', str(data))\n",
    "#removes HTML tags\n",
    "    clean = re.sub('\\'.*?\\s',' ', clean)\n",
    "#removes all hanging letters afer apostrophes (s in it's)\n",
    "    clean = re.sub(r'http\\S+',' ', clean)\n",
    "#removes URLs\n",
    "    clean = re.sub('[^a-zA-Z0-9\\.]+',' ', clean)\n",
    "#removes all non-alphanumeric characters except periods.\n",
    "    tokens = nltk.sent_tokenize(clean)\n",
    "#sentence tokenizing is done\n",
    "    return tokens\n",
    "sents = data['review'].apply(sents)\n",
    "\n",
    "length_s = 0\n",
    "for i in range(data.shape[0]):\n",
    "    length_s+= len(sents[i])\n",
    "print(\"The number of sentences is - \", length_s)\n",
    "#prints the number of sentences\n",
    "\n",
    "length_t = 0\n",
    "for i in range(data.shape[0]):\n",
    "    length_t+= len(data['tokens'][i])\n",
    "print(\"\\nThe number of tokens is - \", length_t)\n",
    "#prints the number of tokens\n",
    "\n",
    "average_tokens = round(length_t/length_s)\n",
    "print(\"\\nThe average number of tokens per sentence is - \", average_tokens)\n",
    "#prints the average number of tokens per sentence\n",
    "\n",
    "positive = negative = 0\n",
    "for i in range(data.shape[0]):\n",
    "    if (data['sentiment'][i]=='positive'):\n",
    "        positive += 1\n",
    "#finds the proprtion of positive and negative sentiments\n",
    "    else:\n",
    "        negative += 1\n",
    "\n",
    "print(\"\\nThe number of positive examples are - \", positive)\n",
    "print(\"\\nThe number of negative examples are - \", negative)\n",
    "print(\"\\nThe proportion of positive to negative sentiments are -\", positive/negative)"
   ],
   "metadata": {
    "collapsed": false
   }
  },
  {
   "cell_type": "code",
   "execution_count": 10,
   "outputs": [
    {
     "name": "stdout",
     "output_type": "stream",
     "text": [
      "0    1\n",
      "1    1\n",
      "2    1\n",
      "3    0\n",
      "4    1\n",
      "Name: encoded, dtype: int64\n",
      "\n",
      "The encoded classes are -  {'negative': 0, 'positive': 1}\n"
     ]
    }
   ],
   "source": [
    "# gets reviews column from df\n",
    "reviews = data['cleaned'].values\n",
    "\n",
    "# gets labels column from df\n",
    "labels = data['sentiment'].values\n",
    "# Uses label encoder to encode labels. Convert to 0/1\n",
    "encoder = LabelEncoder()\n",
    "encoded_labels = encoder.fit_transform(labels)\n",
    "data['encoded']= encoded_labels\n",
    "print(data['encoded'].head())\n",
    "\n",
    "# prints(enc.classes_)\n",
    "encoder_mapping = dict(zip(encoder.classes_, encoder.transform(encoder.classes_)))\n",
    "print(\"\\nThe encoded classes are - \", encoder_mapping)\n",
    "\n",
    "labels = data['encoded']"
   ],
   "metadata": {
    "collapsed": false
   }
  },
  {
   "cell_type": "code",
   "execution_count": 11,
   "outputs": [],
   "source": [
    "# Splits the data into train and test (80% - 20%).\n",
    "# Uses stratify in train_test_split so that both train and test have similar ratio of positive and negative samples.\n",
    "train_sentences, test_sentences, train_labels, test_labels = train_test_split(reviews, labels, test_size=0.2, random_state=42, stratify=labels)"
   ],
   "metadata": {
    "collapsed": false
   }
  },
  {
   "cell_type": "code",
   "execution_count": 12,
   "outputs": [
    {
     "name": "stderr",
     "output_type": "stream",
     "text": [
      "/home/jadebski/PycharmProjects/IUI_ED/venv/lib/python3.8/site-packages/sklearn/utils/deprecation.py:87: FutureWarning: Function get_feature_names is deprecated; get_feature_names is deprecated in 1.0 and will be removed in 1.2. Please use get_feature_names_out instead.\n",
      "  warnings.warn(msg, category=FutureWarning)\n"
     ]
    }
   ],
   "source": [
    "# Uses Count vectorizer to get frequency of the words\n",
    "vectorizer = CountVectorizer(max_features = 3000)\n",
    "\n",
    "sents_encoded = vectorizer.fit_transform(train_sentences)         #encodes all training sentences\n",
    "counts = sents_encoded.sum(axis=0).A1\n",
    "vocab = list(vectorizer.get_feature_names())"
   ],
   "metadata": {
    "collapsed": false
   }
  },
  {
   "cell_type": "code",
   "execution_count": 13,
   "outputs": [],
   "source": [
    "class MultinomialNaiveBayes:\n",
    "\n",
    "    def __init__(self, classes, tokenizer):\n",
    "      #self.tokenizer = tokenizer\n",
    "      self.classes = classes\n",
    "\n",
    "    def group_by_class(self, X, y):\n",
    "      data = dict()\n",
    "      for c in self.classes:\n",
    "#grouping by positive and negative sentiments\n",
    "        data[c] = X[np.where(y == c)]\n",
    "      return data\n",
    "\n",
    "    def fit(self, X, y):\n",
    "        self.n_class_items = {}\n",
    "        self.log_class_priors = {}\n",
    "        self.word_counts = {}\n",
    "        self.vocab = vocab\n",
    "#using the pre-made vocabulary of 3000 most frequent training words\n",
    "\n",
    "        n = len(X)\n",
    "\n",
    "        grouped_data = self.group_by_class(X, y)\n",
    "\n",
    "        for c, data in grouped_data.items():\n",
    "          self.n_class_items[c] = len(data)\n",
    "          self.log_class_priors[c]=math.log(self.n_class_items[c]/n)\n",
    "#taking log for easier calculation\n",
    "          self.word_counts[c] = defaultdict(lambda: 0)\n",
    "\n",
    "          for text in data:\n",
    "            counts = Counter(nltk.word_tokenize(text))\n",
    "            for word, count in counts.items():\n",
    "                self.word_counts[c][word] += count\n",
    "\n",
    "        return self\n",
    "    def laplace_smoothing(self, word, text_class):          #smoothing\n",
    "      num = self.word_counts[text_class][word] + 1\n",
    "      denom = self.n_class_items[text_class] + len(self.vocab)\n",
    "      return math.log(num / denom)\n",
    "\n",
    "    def predict(self, X):\n",
    "        result = []\n",
    "        for text in X:\n",
    "\n",
    "          class_scores = {c: self.log_class_priors[c] for c in self.classes}\n",
    "\n",
    "          words = set(nltk.word_tokenize(text))\n",
    "          for word in words:\n",
    "              if word not in self.vocab: continue\n",
    "\n",
    "              for c in self.classes:\n",
    "\n",
    "                log_w_given_c = self.laplace_smoothing(word, c)\n",
    "                class_scores[c] += log_w_given_c\n",
    "\n",
    "          result.append(max(class_scores, key=class_scores.get))\n",
    "\n",
    "        return result"
   ],
   "metadata": {
    "collapsed": false
   }
  },
  {
   "cell_type": "code",
   "execution_count": 14,
   "outputs": [
    {
     "name": "stdout",
     "output_type": "stream",
     "text": [
      "The accuracy of the MNB classifier is  0.8533\n",
      "\n",
      "The classification report with metrics - \n",
      "               precision    recall  f1-score   support\n",
      "\n",
      "           0       0.86      0.85      0.85      5000\n",
      "           1       0.85      0.86      0.85      5000\n",
      "\n",
      "    accuracy                           0.85     10000\n",
      "   macro avg       0.85      0.85      0.85     10000\n",
      "weighted avg       0.85      0.85      0.85     10000\n",
      "\n"
     ]
    }
   ],
   "source": [
    "MNB = MultinomialNaiveBayes(\n",
    "    classes=np.unique(labels),\n",
    "    tokenizer=Tokenizer()\n",
    ").fit(train_sentences, train_labels)\n",
    "\n",
    "# Tests the model on test set and reports the Accuracy\n",
    "predicted_labels = MNB.predict(test_sentences)\n",
    "print(\"The accuracy of the MNB classifier is \", accuracy_score(test_labels, predicted_labels))\n",
    "print(\"\\nThe classification report with metrics - \\n\", classification_report(test_labels, predicted_labels))"
   ],
   "metadata": {
    "collapsed": false
   }
  }
 ],
 "metadata": {
  "kernelspec": {
   "display_name": "Python 3",
   "language": "python",
   "name": "python3"
  },
  "language_info": {
   "codemirror_mode": {
    "name": "ipython",
    "version": 2
   },
   "file_extension": ".py",
   "mimetype": "text/x-python",
   "name": "python",
   "nbconvert_exporter": "python",
   "pygments_lexer": "ipython2",
   "version": "2.7.6"
  }
 },
 "nbformat": 4,
 "nbformat_minor": 0
}
