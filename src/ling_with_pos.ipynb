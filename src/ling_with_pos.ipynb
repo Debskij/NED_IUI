{
 "cells": [
  {
   "cell_type": "code",
   "execution_count": 116,
   "metadata": {
    "collapsed": true
   },
   "outputs": [],
   "source": [
    "import os\n",
    "import nltk\n",
    "from nltk.corpus import wordnet as wn\n",
    "from nltk.tokenize import RegexpTokenizer\n",
    "from nltk.corpus import stopwords\n",
    "from nltk.tokenize import word_tokenize\n",
    "from nltk.wsd import lesk\n",
    "from simple_colors import red\n",
    "\n",
    "from nltk.corpus import stopwords\n",
    "from nltk.stem import WordNetLemmatizer"
   ]
  },
  {
   "cell_type": "code",
   "execution_count": 117,
   "outputs": [],
   "source": [
    "def convert_pos_tag_to_pos(pos_tag: list):\n",
    "    convert_table = {\n",
    "        \"VBD\": 'v', \"VB\": 'v', \"VBP\": 'v',\n",
    "        \"VBG\": 'n', \"NN\": 'n', \"NNP\": 'n', \"NNS\": 'n',\n",
    "        \"JJ\": 'a', \"JJR\": 'a', \"JJS\": 'a',\n",
    "        \"RB\": 'r',\n",
    "    }\n",
    "    return [convert_table[x] for x in pos_tag]\n",
    "\n",
    "def guess_pos(sentence: list):\n",
    "    return tuple(zip(*nltk.pos_tag(sentence)))"
   ],
   "metadata": {
    "collapsed": false
   }
  },
  {
   "cell_type": "code",
   "execution_count": 123,
   "outputs": [
    {
     "data": {
      "text/plain": "['agent', 'booked', 'several', 'concerts', 'tokyo']"
     },
     "execution_count": 123,
     "metadata": {},
     "output_type": "execute_result"
    }
   ],
   "source": [
    "start_sentence = 'Her agent had booked her for several concerts in Tokyo'\n",
    "stop_words = set(stopwords.words('english'))\n",
    "sentence = [word.lower() for word in nltk.word_tokenize(start_sentence) if word.lower() not in stop_words]\n",
    "sentence"
   ],
   "metadata": {
    "collapsed": false
   }
  },
  {
   "cell_type": "code",
   "execution_count": 124,
   "outputs": [
    {
     "data": {
      "text/plain": "(('agent', 'booked', 'several', 'concerts', 'tokyo'),\n ('NN', 'VBD', 'JJ', 'NNS', 'NN'))"
     },
     "execution_count": 124,
     "metadata": {},
     "output_type": "execute_result"
    }
   ],
   "source": [
    "sentence, pos = guess_pos(sentence)\n",
    "sentence, pos"
   ],
   "metadata": {
    "collapsed": false
   }
  },
  {
   "cell_type": "code",
   "execution_count": 125,
   "outputs": [],
   "source": [
    "new_pos = convert_pos_tag_to_pos(pos)"
   ],
   "metadata": {
    "collapsed": false
   }
  },
  {
   "cell_type": "code",
   "execution_count": 126,
   "outputs": [],
   "source": [
    "def color(word, meaningful_words):\n",
    "    if word in meaningful_words:\n",
    "        return \"\\033[1m\" + red(word) + \"\\033[0m\"\n",
    "    else:\n",
    "        return word"
   ],
   "metadata": {
    "collapsed": false
   }
  },
  {
   "cell_type": "code",
   "execution_count": 127,
   "outputs": [
    {
     "name": "stdout",
     "output_type": "stream",
     "text": [
      "Her \u001B[1m\u001B[31magent\u001B[0m\u001B[0m had \u001B[1m\u001B[31mbooked\u001B[0m\u001B[0m her for \u001B[1m\u001B[31mseveral\u001B[0m\u001B[0m \u001B[1m\u001B[31mconcerts\u001B[0m\u001B[0m in Tokyo\n"
     ]
    },
    {
     "data": {
      "text/plain": "{'agent': (Synset('agent.n.05'),\n  'any agent or representative of a federal agency or bureau'),\n 'booked': (Synset('reserve.v.04'),\n  'arrange for and reserve (something for someone else) in advance'),\n 'several': (Synset('several.s.03'), 'distinct and individual'),\n 'concerts': (Synset('concert.n.01'),\n  'a performance of music by players or singers not involving theatrical staging'),\n 'tokyo': (Synset('tokyo.n.01'),\n  'the capital and largest city of Japan; the economic and cultural center of Japan')}"
     },
     "execution_count": 127,
     "metadata": {},
     "output_type": "execute_result"
    }
   ],
   "source": [
    "def guess_synset(context, word, pos):\n",
    "    match_pos = lesk(context, word, pos)\n",
    "    if match_pos is None:\n",
    "        return lesk(context, word)\n",
    "    return match_pos\n",
    "\n",
    "guess = {w: guess_synset(sentence, w, p) for w, p in zip(sentence, new_pos)}\n",
    "print(' '.join([color(x, sentence) for x in start_sentence.split()]))\n",
    "{w: (s, s.definition()) for w, s in guess.items()}"
   ],
   "metadata": {
    "collapsed": false
   }
  },
  {
   "cell_type": "code",
   "execution_count": 122,
   "outputs": [],
   "source": [],
   "metadata": {
    "collapsed": false
   }
  }
 ],
 "metadata": {
  "kernelspec": {
   "display_name": "Python 3",
   "language": "python",
   "name": "python3"
  },
  "language_info": {
   "codemirror_mode": {
    "name": "ipython",
    "version": 2
   },
   "file_extension": ".py",
   "mimetype": "text/x-python",
   "name": "python",
   "nbconvert_exporter": "python",
   "pygments_lexer": "ipython2",
   "version": "2.7.6"
  }
 },
 "nbformat": 4,
 "nbformat_minor": 0
}
