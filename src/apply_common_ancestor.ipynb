{
 "cells": [
  {
   "cell_type": "code",
   "execution_count": 21,
   "metadata": {
    "collapsed": true
   },
   "outputs": [],
   "source": [
    "from nltk.corpus import wordnet as wn, stopwords\n",
    "import numpy as np\n",
    "from itertools import combinations"
   ]
  },
  {
   "cell_type": "code",
   "execution_count": 22,
   "outputs": [
    {
     "data": {
      "text/plain": "['zip_by', 'zip_up', 'zonk_out', 'zoom_along', 'zoom_in']"
     },
     "execution_count": 22,
     "metadata": {},
     "output_type": "execute_result"
    }
   ],
   "source": [
    "lemmas = list(wn.words())\n",
    "lemmas[-5:]"
   ],
   "metadata": {
    "collapsed": false
   }
  },
  {
   "cell_type": "code",
   "execution_count": 25,
   "outputs": [
    {
     "data": {
      "text/plain": "[(Synset('dog.n.01'), Synset('frump.n.01')),\n (Synset('dog.n.01'), Synset('dog.n.03')),\n (Synset('dog.n.01'), Synset('cad.n.01')),\n (Synset('dog.n.01'), Synset('frank.n.02')),\n (Synset('dog.n.01'), Synset('pawl.n.01')),\n (Synset('dog.n.01'), Synset('andiron.n.01')),\n (Synset('frump.n.01'), Synset('dog.n.03')),\n (Synset('frump.n.01'), Synset('cad.n.01')),\n (Synset('frump.n.01'), Synset('frank.n.02')),\n (Synset('frump.n.01'), Synset('pawl.n.01')),\n (Synset('frump.n.01'), Synset('andiron.n.01')),\n (Synset('dog.n.03'), Synset('cad.n.01')),\n (Synset('dog.n.03'), Synset('frank.n.02')),\n (Synset('dog.n.03'), Synset('pawl.n.01')),\n (Synset('dog.n.03'), Synset('andiron.n.01')),\n (Synset('cad.n.01'), Synset('frank.n.02')),\n (Synset('cad.n.01'), Synset('pawl.n.01')),\n (Synset('cad.n.01'), Synset('andiron.n.01')),\n (Synset('frank.n.02'), Synset('pawl.n.01')),\n (Synset('frank.n.02'), Synset('andiron.n.01')),\n (Synset('pawl.n.01'), Synset('andiron.n.01'))]"
     },
     "execution_count": 25,
     "metadata": {},
     "output_type": "execute_result"
    }
   ],
   "source": [
    "dog = wn.synsets('dog', pos='n')\n",
    "word_combinations = list(combinations(dog, 2))\n",
    "word_combinations"
   ],
   "metadata": {
    "collapsed": false
   }
  },
  {
   "cell_type": "code",
   "execution_count": 45,
   "outputs": [
    {
     "name": "stdout",
     "output_type": "stream",
     "text": [
      "common hypernym Synset('organism.n.01')\n",
      "[Synset('animal.n.01'), Synset('person.n.01')]\n",
      "common hypernym Synset('organism.n.01')\n",
      "[Synset('animal.n.01'), Synset('person.n.01')]\n",
      "common hypernym Synset('organism.n.01')\n",
      "[Synset('animal.n.01'), Synset('person.n.01')]\n",
      "common hypernym Synset('physical_entity.n.01')\n",
      "[Synset('object.n.01'), Synset('matter.n.03')]\n",
      "common hypernym Synset('whole.n.02')\n",
      "[Synset('living_thing.n.01'), Synset('artifact.n.01')]\n",
      "common hypernym Synset('whole.n.02')\n",
      "[Synset('living_thing.n.01'), Synset('artifact.n.01')]\n",
      "common hypernym Synset('person.n.01')\n",
      "[Synset('unwelcome_person.n.01'), Synset('male.n.02')]\n",
      "common hypernym Synset('unwelcome_person.n.01')\n",
      "[Synset('unpleasant_person.n.01'), Synset('villain.n.01')]\n",
      "common hypernym Synset('physical_entity.n.01')\n",
      "[Synset('causal_agent.n.01'), Synset('matter.n.03')]\n",
      "common hypernym Synset('whole.n.02')\n",
      "[Synset('living_thing.n.01'), Synset('artifact.n.01')]\n",
      "common hypernym Synset('whole.n.02')\n",
      "[Synset('living_thing.n.01'), Synset('artifact.n.01')]\n",
      "common hypernym Synset('person.n.01')\n",
      "[Synset('male.n.02'), Synset('unwelcome_person.n.01')]\n",
      "common hypernym Synset('physical_entity.n.01')\n",
      "[Synset('causal_agent.n.01'), Synset('matter.n.03')]\n",
      "common hypernym Synset('whole.n.02')\n",
      "[Synset('living_thing.n.01'), Synset('artifact.n.01')]\n",
      "common hypernym Synset('whole.n.02')\n",
      "[Synset('living_thing.n.01'), Synset('artifact.n.01')]\n",
      "common hypernym Synset('physical_entity.n.01')\n",
      "[Synset('causal_agent.n.01'), Synset('matter.n.03')]\n",
      "common hypernym Synset('whole.n.02')\n",
      "[Synset('living_thing.n.01'), Synset('artifact.n.01')]\n",
      "common hypernym Synset('whole.n.02')\n",
      "[Synset('living_thing.n.01'), Synset('artifact.n.01')]\n",
      "common hypernym Synset('physical_entity.n.01')\n",
      "[Synset('matter.n.03'), Synset('object.n.01')]\n",
      "common hypernym Synset('physical_entity.n.01')\n",
      "[Synset('matter.n.03'), Synset('object.n.01')]\n",
      "common hypernym Synset('device.n.01')\n",
      "[Synset('restraint.n.06'), Synset('support.n.10')]\n"
     ]
    }
   ],
   "source": [
    "for w in word_combinations:\n",
    "    common_hypernym = w[0].lowest_common_hypernyms(w[1])[0]\n",
    "    print(f\"common hypernym {common_hypernym}\")\n",
    "    # HUA - highest uncommon ancestor\n",
    "    hua = []\n",
    "    for word in w:\n",
    "        distance = word.shortest_path_distance(common_hypernym)\n",
    "        # print(f\"distance for {word}: {distance}\")\n",
    "        potential_paths = word.hypernym_paths()\n",
    "        right_path = None\n",
    "        for path in potential_paths:\n",
    "            if common_hypernym in path:\n",
    "                right_path = path\n",
    "                break\n",
    "        assert right_path is not None\n",
    "        current_synset = right_path[0]\n",
    "        iter_path = iter(right_path)\n",
    "        while current_synset != common_hypernym:\n",
    "            current_synset = next(iter_path)\n",
    "        hua.append(next(iter_path))\n",
    "    print(hua)"
   ],
   "metadata": {
    "collapsed": false
   }
  },
  {
   "cell_type": "code",
   "execution_count": null,
   "outputs": [],
   "source": [],
   "metadata": {
    "collapsed": false
   }
  }
 ],
 "metadata": {
  "kernelspec": {
   "display_name": "Python 3",
   "language": "python",
   "name": "python3"
  },
  "language_info": {
   "codemirror_mode": {
    "name": "ipython",
    "version": 2
   },
   "file_extension": ".py",
   "mimetype": "text/x-python",
   "name": "python",
   "nbconvert_exporter": "python",
   "pygments_lexer": "ipython2",
   "version": "2.7.6"
  }
 },
 "nbformat": 4,
 "nbformat_minor": 0
}
