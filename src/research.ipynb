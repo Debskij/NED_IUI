{
 "cells": [
  {
   "cell_type": "code",
   "execution_count": 21,
   "metadata": {
    "collapsed": true
   },
   "outputs": [],
   "source": [
    "from nltk.corpus import wordnet, stopwords, genesis\n",
    "import numpy as np\n",
    "from itertools import combinations\n",
    "from simple_colors import *\n",
    "\n",
    "genesis_ic = None\n",
    "stop_words = None\n",
    "try:\n",
    "    _ = stopwords.words('english')\n",
    "    _ = wordnet.synsets('dog')\n",
    "except LookupError as e:\n",
    "    print(e)\n",
    "    import nltk\n",
    "    nltk.download('stopwords')\n",
    "    nltk.download('wordnet')\n",
    "    nltk.download('omw-1.4')\n",
    "    nltk.download('genesis')\n",
    "finally:\n",
    "    stop_words = set(stopwords.words('english'))\n",
    "    genesis_ic = wordnet.ic(genesis, False, 0.0)"
   ]
  },
  {
   "cell_type": "code",
   "execution_count": 22,
   "outputs": [
    {
     "name": "stdout",
     "output_type": "stream",
     "text": [
      "['numerous', 'horses', 'racecourse', 'Paris']\n"
     ]
    }
   ],
   "source": [
    "sentence = \"There were numerous horses on the racecourse in Paris\"\n",
    "splitted_sentence = sentence.split()\n",
    "meaningful_words = [word for word in splitted_sentence if word.lower() not in stop_words]\n",
    "print(meaningful_words)"
   ],
   "metadata": {
    "collapsed": false
   }
  },
  {
   "cell_type": "code",
   "execution_count": 23,
   "outputs": [
    {
     "name": "stdout",
     "output_type": "stream",
     "text": [
      "[(0, 5), (5, 10), (10, 19), (19, 26), (26, 29), (29, 33), (33, 44), (44, 47), (47, 53)]\n"
     ]
    }
   ],
   "source": [
    "positions = list(np.cumsum(list(map(len, splitted_sentence))))\n",
    "for idx in range(len(positions)):\n",
    "    positions[idx] += idx\n",
    "words_idx = []\n",
    "for left_pos, right_pos in zip([0] + positions[:-1], positions):\n",
    "    words_idx.append((left_pos, right_pos))\n",
    "print(words_idx)"
   ],
   "metadata": {
    "collapsed": false
   }
  },
  {
   "cell_type": "code",
   "execution_count": 24,
   "outputs": [
    {
     "name": "stdout",
     "output_type": "stream",
     "text": [
      "['numerous', 'horses', 'racecourse', 'Paris']\n"
     ]
    }
   ],
   "source": [
    "searched_words_idx = [words_idx[splitted_sentence.index(word)] for word in meaningful_words]\n",
    "words = [sentence[max(left+1, 0):right] for left, right in searched_words_idx]\n",
    "print(words)"
   ],
   "metadata": {
    "collapsed": false
   }
  },
  {
   "cell_type": "code",
   "execution_count": 25,
   "outputs": [
    {
     "name": "stdout",
     "output_type": "stream",
     "text": [
      "[{Synset('numerous.s.01')}, {Synset('knight.n.02'), Synset('horse.v.01'), Synset('horse.n.02'), Synset('cavalry.n.01'), Synset('horse.n.01'), Synset('sawhorse.n.01')}, {Synset('racetrack.n.01')}, {Synset('paris.n.03'), Synset('paris.n.02'), Synset('paris.n.04'), Synset('paris.n.01')}]\n"
     ]
    }
   ],
   "source": [
    "words_synsets = [set(wordnet.synsets(word)) for word in words]\n",
    "print(words_synsets)"
   ],
   "metadata": {
    "collapsed": false
   }
  },
  {
   "cell_type": "code",
   "execution_count": 26,
   "outputs": [],
   "source": [
    "def convert_to_noun_synsets(word_synsets):\n",
    "    result_synsets = set()\n",
    "    for synset in word_synsets:\n",
    "        if synset.pos() == 'n':\n",
    "            result_synsets.add(synset)\n",
    "        else:\n",
    "            possible_words = convert(synset, 'n')\n",
    "            for p_word, p_odds in possible_words:\n",
    "                if p_word in meaningful_words:\n",
    "                    continue\n",
    "                result_synsets |= set(wordnet.synsets(p_word, pos=wordnet.NOUN))\n",
    "    return result_synsets"
   ],
   "metadata": {
    "collapsed": false
   }
  },
  {
   "cell_type": "code",
   "execution_count": 27,
   "outputs": [],
   "source": [
    "# Just to make it a bit more readable\n",
    "WN_NOUN = 'n'\n",
    "WN_VERB = 'v'\n",
    "WN_ADJECTIVE = 'a'\n",
    "WN_ADJECTIVE_SATELLITE = 's'\n",
    "WN_ADVERB = 'r'\n",
    "\n",
    "\n",
    "def convert(synset, to_pos):\n",
    "    \"\"\" Transform words given from/to POS tags \"\"\"\n",
    "\n",
    "    from_pos = synset.pos()\n",
    "    # Get all lemmas of the word (consider 'a'and 's' equivalent)\n",
    "    lemmas = []\n",
    "    for l in synset.lemmas():\n",
    "        if synset.name().split('.')[1] == from_pos or from_pos in (WN_ADJECTIVE, WN_ADJECTIVE_SATELLITE) and synset.name().split('.')[1] in (WN_ADJECTIVE, WN_ADJECTIVE_SATELLITE):\n",
    "            lemmas += [l]\n",
    "\n",
    "    # Get related forms\n",
    "    derivationally_related_forms = [(l, l.derivationally_related_forms()) for l in lemmas]\n",
    "\n",
    "    # filter only the desired pos (consider 'a' and 's' equivalent)\n",
    "    related_noun_lemmas = []\n",
    "\n",
    "    for drf in derivationally_related_forms:\n",
    "        for l in drf[1]:\n",
    "            if l.synset().name().split('.')[1] == to_pos or to_pos in (WN_ADJECTIVE, WN_ADJECTIVE_SATELLITE) and l.synset().name().split('.')[1] in (WN_ADJECTIVE, WN_ADJECTIVE_SATELLITE):\n",
    "                related_noun_lemmas += [l]\n",
    "\n",
    "    # Extract the words from the lemmas\n",
    "    words = [l.name() for l in related_noun_lemmas]\n",
    "    len_words = len(words)\n",
    "\n",
    "    # Build the result in the form of a list containing tuples (word, probability)\n",
    "    result = [(w, float(words.count(w)) / len_words) for w in set(words)]\n",
    "    result.sort(key=lambda w:-w[1])\n",
    "\n",
    "    # return all the possibilities sorted by probability\n",
    "    return result"
   ],
   "metadata": {
    "collapsed": false
   }
  },
  {
   "cell_type": "code",
   "execution_count": 28,
   "outputs": [
    {
     "name": "stdout",
     "output_type": "stream",
     "text": [
      "numerousness.n.01 a large number\n",
      "knight.n.02 a chessman shaped to resemble the head of a horse; can move two squares horizontally and one vertically (or vice versa)\n",
      "sawhorse.n.01 a framework for holding wood that is being sawed\n",
      "cavalry.n.01 troops trained to fight on horseback\n",
      "horse.n.02 a padded gymnastic apparatus on legs\n",
      "horse.n.01 solid-hoofed herbivorous quadruped domesticated since prehistoric times\n",
      "racetrack.n.01 a course over which races are run\n",
      "paris.n.03 (Greek mythology) the prince of Troy who abducted Helen from her husband Menelaus and provoked the Trojan War\n",
      "paris.n.02 sometimes placed in subfamily Trilliaceae\n",
      "paris.n.04 a town in northeastern Texas\n",
      "paris.n.01 the capital and largest city of France; and international center of culture and commerce\n"
     ]
    }
   ],
   "source": [
    "new_synsets = [convert_to_noun_synsets(word_syn) for word_syn in words_synsets]\n",
    "for synsets in new_synsets:\n",
    "    for synset in synsets:\n",
    "        print(synset.name(), synset.definition())"
   ],
   "metadata": {
    "collapsed": false
   }
  },
  {
   "cell_type": "code",
   "execution_count": 29,
   "outputs": [],
   "source": [
    "def find_best_composition(synsets: list, currently_checked_synsets: list, index: int):\n",
    "    a = [float('inf'), None]\n",
    "    if index >= len(synsets):\n",
    "        return calculate_distance(currently_checked_synsets)\n",
    "    for word in synsets[index]:\n",
    "        similarity, best_synsets = find_best_composition(synsets, [word] + currently_checked_synsets, index + 1)\n",
    "        if similarity < a[0]:\n",
    "            a = (similarity, best_synsets)\n",
    "    return a\n",
    "\n",
    "def calculate_distance(synsets: list, similarity_function = wordnet.lch_similarity):\n",
    "    possible_combinations = combinations(synsets, 2)\n",
    "    similarity = list(map(lambda x: similarity_function(*x, genesis_ic), possible_combinations))\n",
    "    similarity = sum(similarity)\n",
    "    return similarity, synsets"
   ],
   "metadata": {
    "collapsed": false
   }
  },
  {
   "cell_type": "code",
   "execution_count": 30,
   "outputs": [],
   "source": [
    "odds, best_synsets = find_best_composition(new_synsets, list(), 0)"
   ],
   "metadata": {
    "collapsed": false
   }
  },
  {
   "cell_type": "code",
   "execution_count": 31,
   "outputs": [],
   "source": [
    "def color(word):\n",
    "    if word in meaningful_words:\n",
    "        return \"\\033[1m\" + red(word) + \"\\033[0m\"\n",
    "    else:\n",
    "        return word"
   ],
   "metadata": {
    "collapsed": false
   }
  },
  {
   "cell_type": "code",
   "execution_count": 32,
   "outputs": [
    {
     "name": "stdout",
     "output_type": "stream",
     "text": [
      "There were \u001B[1m\u001B[31mnumerous\u001B[0m\u001B[0m \u001B[1m\u001B[31mhorses\u001B[0m\u001B[0m on the \u001B[1m\u001B[31mracecourse\u001B[0m\u001B[0m in \u001B[1m\u001B[31mParis\u001B[0m\u001B[0m\n",
      "numerous: a large number\n",
      "horses: solid-hoofed herbivorous quadruped domesticated since prehistoric times\n",
      "racecourse: a course over which races are run\n",
      "Paris: (Greek mythology) the prince of Troy who abducted Helen from her husband Menelaus and provoked the Trojan War\n"
     ]
    }
   ],
   "source": [
    "print(' '.join([color(word) for word in splitted_sentence]))\n",
    "\n",
    "for w, s in zip(meaningful_words, best_synsets[::-1]):\n",
    "    print(f\"{w}: {s.definition()}\")"
   ],
   "metadata": {
    "collapsed": false
   }
  },
  {
   "cell_type": "code",
   "execution_count": 33,
   "outputs": [],
   "source": [
    "from nltk.wsd import lesk"
   ],
   "metadata": {
    "collapsed": false
   }
  },
  {
   "cell_type": "code",
   "execution_count": 34,
   "outputs": [
    {
     "name": "stdout",
     "output_type": "stream",
     "text": [
      "amounting to a large indefinite number\n",
      "provide with a horse or horses\n",
      "a course over which races are run\n",
      "a town in northeastern Texas\n"
     ]
    }
   ],
   "source": [
    "for w in meaningful_words:\n",
    "    print(lesk(meaningful_words, w).definition())"
   ],
   "metadata": {
    "collapsed": false
   }
  },
  {
   "cell_type": "code",
   "execution_count": 34,
   "outputs": [],
   "source": [],
   "metadata": {
    "collapsed": false
   }
  }
 ],
 "metadata": {
  "kernelspec": {
   "display_name": "Python 3",
   "language": "python",
   "name": "python3"
  },
  "language_info": {
   "codemirror_mode": {
    "name": "ipython",
    "version": 2
   },
   "file_extension": ".py",
   "mimetype": "text/x-python",
   "name": "python",
   "nbconvert_exporter": "python",
   "pygments_lexer": "ipython2",
   "version": "2.7.6"
  }
 },
 "nbformat": 4,
 "nbformat_minor": 0
}
